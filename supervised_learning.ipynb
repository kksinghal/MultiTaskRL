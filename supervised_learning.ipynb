{
 "cells": [
  {
   "cell_type": "code",
   "execution_count": 1,
   "id": "70005960",
   "metadata": {},
   "outputs": [],
   "source": [
    "import os\n",
    "import torch\n",
    "from torch import nn\n",
    "from torch.utils.data import DataLoader, Dataset\n",
    "import torchvision\n",
    "from torchvision import datasets, transforms\n",
    "\n",
    "import numpy as np\n",
    "\n",
    "import pandas as pd\n",
    "\n",
    "device = 'cuda' if torch.cuda.is_available() else 'cpu'"
   ]
  },
  {
   "cell_type": "code",
   "execution_count": 2,
   "id": "30038541",
   "metadata": {},
   "outputs": [],
   "source": [
    "from Agent import Agent\n",
    "\n",
    "agent = Agent(n_heads=16).to(device)"
   ]
  },
  {
   "cell_type": "code",
   "execution_count": 3,
   "id": "3a7efbd5",
   "metadata": {},
   "outputs": [],
   "source": [
    "class EpisodeSelector(Dataset):\n",
    "    def __init__(self):\n",
    "        self.metadata = pd.read_csv(\"./data/metadata.csv\")\n",
    "\n",
    "    def __len__(self):\n",
    "        return len(self.metadata)\n",
    "\n",
    "    def __getitem__(self, idx):\n",
    "        task = self.metadata.iloc[idx][\"task\"]\n",
    "        episode_idx = self.metadata.iloc[idx,1]\n",
    "        \n",
    "        output = pd.read_csv(\"./data/\"+task+\"/\"+str(episode_idx)+\"/output.csv\")\n",
    "        return task, episode_idx, output\n",
    "    \n",
    "episode_selector = EpisodeSelector()"
   ]
  },
  {
   "cell_type": "code",
   "execution_count": 4,
   "id": "f89d0088",
   "metadata": {},
   "outputs": [],
   "source": [
    "lr = 1e-3\n",
    "\n",
    "brain_optimizer = torch.optim.Adam(agent.get_brain_parameters(), lr=lr*1e-3, \n",
    "                    betas=(0.92, 0.999))\n",
    "\n",
    "loss_fn = nn.MSELoss()"
   ]
  },
  {
   "cell_type": "code",
   "execution_count": null,
   "id": "f07fca10",
   "metadata": {},
   "outputs": [],
   "source": []
  },
  {
   "cell_type": "code",
   "execution_count": 9,
   "id": "df77c8f0",
   "metadata": {},
   "outputs": [],
   "source": [
    "def train_loop():\n",
    "    size = len(episode_selector)\n",
    "    for batch, (task, episode_idx, label_df) in enumerate(episode_selector):\n",
    "\n",
    "        #agent.attention_model.prev_Q = torch.zeros(16, 256, 16, 16).to(device) \n",
    "\n",
    "        task_memory_optimizer = torch.optim.Adam(agent.get_task_memory_parameters(task), lr=lr, \n",
    "                            betas=(0.92, 0.999))\n",
    "\n",
    "        loss = 0\n",
    "        for index, row in label_df.iterrows():\n",
    "            observation = torchvision.io.read_image(\"./data/\"+task+\"/\"+str(episode_idx)+\"/\"+str(int(row[\"id\"]))+\".png\").float()\n",
    "\n",
    "            pred_action_dist, pred_value = agent(observation, task)\n",
    "\n",
    "            action_dist = torch.tensor([row[\"forward_force_mean\"], 5, row[\"angular_velocity_mean\"], 5])\n",
    "            value = torch.tensor([row[\"value\"]])\n",
    "\n",
    "            loss += loss_fn(pred_action_dist.float(), action_dist.float())\n",
    "            loss += loss_fn(pred_value.float(), value.float())\n",
    "\n",
    "        brain_optimizer.zero_grad()\n",
    "        task_memory_optimizer.zero_grad()\n",
    "\n",
    "        loss.backward()\n",
    "\n",
    "        brain_optimizer.step()\n",
    "        task_memory_optimizer.step()\n",
    "\n",
    "        if batch % 100 == 0:\n",
    "            loss, current = loss.item(), batch\n",
    "            print(f\"loss: {loss:>7f}  [{current:>5d}/{size:>5d}]\")\n"
   ]
  },
  {
   "cell_type": "code",
   "execution_count": 10,
   "id": "7cffc6b9",
   "metadata": {},
   "outputs": [
    {
     "name": "stdout",
     "output_type": "stream",
     "text": [
      "loss: 159810.500000  [    0/    5]\n"
     ]
    }
   ],
   "source": [
    "train_loop()\n"
   ]
  },
  {
   "cell_type": "code",
   "execution_count": null,
   "id": "c96f32af",
   "metadata": {},
   "outputs": [],
   "source": []
  }
 ],
 "metadata": {
  "kernelspec": {
   "display_name": "Python 3",
   "language": "python",
   "name": "python3"
  },
  "language_info": {
   "codemirror_mode": {
    "name": "ipython",
    "version": 3
   },
   "file_extension": ".py",
   "mimetype": "text/x-python",
   "name": "python",
   "nbconvert_exporter": "python",
   "pygments_lexer": "ipython3",
   "version": "3.7.11"
  }
 },
 "nbformat": 4,
 "nbformat_minor": 5
}
